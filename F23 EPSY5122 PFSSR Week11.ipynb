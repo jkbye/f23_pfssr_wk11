{
 "cells": [
  {
   "cell_type": "markdown",
   "metadata": {},
   "source": [
    "# EPSY 5122: Programming for Social Science Researchers\n",
    "## Week 11 (asynchronous)\n",
    "### Fall 2023"
   ]
  },
  {
   "cell_type": "markdown",
   "metadata": {},
   "source": [
    "#### Outline\n",
    "* Intro to GitHub \n",
    "* Remote repos and cloning\n",
    "* Pushing and pulling between repos\n",
    "* Jupyter Notebooks in git\n",
    "* Simple linear regression"
   ]
  },
  {
   "cell_type": "markdown",
   "metadata": {},
   "source": [
    "#### Intro to GitHub\n",
    "We've talked a fair amount about using git *locally* on your own machine. We have practiced:\n",
    "1) Initializing a local git \"repo\" (repository, i.e., project folder)\n",
    "2) Using git to track file changes\n",
    "3) Staging and then committing those changes (with a descriptive message)\n",
    "4) Reviewing past versions of files (in case you need to revert any changes or just for nostalgia)\n",
    "\n",
    "Now we branch out (a little git pun there) to the INTERNET, which appears to be catching on. GitHub and GitLab (and others) are web servers that host git repositories.\n",
    "\n",
    "Since these repos live \"off\" our own local machine, we call them ***remote repos***. Cool. Even cooler: we can link a local repo to a remote repo (e.g., on GitHub) so changes committed in one place can be 'grabbed' by the other repo. This grabbing is called something different depending on the direction. When we make a change locally, we ***push*** it up to the cloud (remote server). When we make a change remotely, we ***pull*** it down from the cloud onto our local machine.\n",
    "\n",
    "There are several ways to create a connected local-remote repo pair, but for now, we will first create a remote repo on GitHub (or other servers) that we ***clone*** locally to our computer. This will create the 'link' for them to sync (it rhymes!).\n",
    "\n",
    "#### Remote repos and cloning\n",
    "First go to your GitHub, click New, and type in `f23_pfssr_wk11`` as the name of your repo Importantly (it'll make things easier for us), check the box to \"Add a README file\". This creates a (very short) .md file, so that the repo isn't fully empty. For now (also to make it easier), keep your repo public (you can make it private later).\n",
    "\n",
    "You now have a remote repo with a readme. Huzzah! How do you pull it? Well the first time you take a repo from one place (e.g., your GitHub) to another (your computer), it's a special kind of operation called ***cloning***. Ooo more sci-fi! You may need to set up an ssh key for this, if you haven't already. Follow these instructions: [Generate your ssh key](https://docs.github.com/en/authentication/connecting-to-github-with-ssh/generating-a-new-ssh-key-and-adding-it-to-the-ssh-agent)\n",
    "and [add it to GitHub](https://docs.github.com/en/authentication/connecting-to-github-with-ssh/adding-a-new-ssh-key-to-your-github-account). Then you can clone in the terminal by typing `git clone URL` where `URL` is replaced with the link from your clone button. *Or alternatively*, you can [use VSCode to do this for you](https://code.visualstudio.com/docs/sourcecontrol/github). In this case, you have to log into your GitHub account inside of VSCode's settings. Then a Clone Repository button shows upin your VSCode editor. GitHub and VSCode are both owned by Microsoft (they bought GitHub a few years ago, rather controversially), so they make it pretty easy. You can use VSCode with other GitHub alternatives like GitLab and BitBucket, it's just not quite as easy. OR you can use GitKraken (I linked to it in Canvas) which is a third party client. Their freeware version is pretty useful -- as a student, you can sign up for the GitHub student pack (link in Canvas) that come with a Pro version of GitKraken while you're a student. Pretty cool! It's up to you which route you want: terminal, VSCode, GitKraken, or many other options.\n",
    "\n",
    "Note that you have to specify where to clone to (as usual, I recommend a location that is well organized in folders, like a Week 11 folder for this class).\n",
    "\n",
    "#### Pushing and pulling between repos\n",
    "Okay so we've *cloned*! Now you have a remote *and* local repo *and* they're linked to each other. Now that they're linked, you can *push* and *pull* between these two. It's all coming together! Let's see what it means!\n",
    "\n",
    "First let's make a change ON GITHUB to your `readme.md` file. Add some text. Stage, commit, pull! Then on your machine, you'll see you're (locally) \"behind\" the remote repo, by 1 commit. In other words, on the timeline of commit changes, your computer is in the past (relative to GitHub). Pull your new commit down, and now you're synced! Both repos are in the same state.\n",
    "\n",
    "Now let's make a change LOCALLY to the same `.readme.md` file. Open it up in VSCode. Put your name somewhere. Stage, commit, pull! Then on your machine, you'll see you're (locally) \"ahead\" of the remote repo, by 1 commit. In other words, on the timeline of commit changes, your computer is in the future (relative to GitHub). Push your new commit up, and now you're synced! Both repos are in the same state.\n",
    "\n",
    "Note: sometimes you may be both behind and ahead. We'll try to keep it simple and avoid that for now. But it means you have 1+ remote commits that aren't in the local repo, AND 1+ local commits that aren't in the remote repo. As long as your commits are in different files or different parts of the same file, git can usually 'figure it out' and synchronize. (Note that doesn't mean any code will still run, as the changes may be incompatible with each other.) Other times, git will throw a \"merge conflict\" at you, which means it's unclear to git how to merge the different commits together (there's ambiguity). This means you need to manually tell it how to do it.\n",
    "\n",
    "#### Jupyter Notebooks in git\n",
    "\n",
    "Download the .zip from Week 11 on Canvas. Let's drop the file and the folder into your *local repo* folder (wherever that is). (Note you normally would start creating your own files at this point, but I wanted to jumpstart that process.) Here, we have a .ipynb (iPython Notebook => Jupyter Notebook) that I've set up for you, along with a Readme file (a .md markdown file providing an overview of the repo), and two .csv data files inside a folder I've called `in_data` (to keep raw data separate from outputs). You likely have encountered remote repos like this (probably a wee bit more complex) on GitHub before.\n",
    "\n",
    "Let's open up the .ipynb file in VSCode. First let's download the Jupyter plugin for VSCode (we'll just use this briefly). Next we open up the file. We can see that VSCode formats the file for us.\n",
    "\n",
    "To see that git works here too, let's add your name at the top of the notebook. Commit and take a look at the 'diff log'.  It embeds code into little chunks inside the file data. Looks good, commit and push!\n",
    "\n",
    "Okay, that's plenty of git for now. Let's get back to Python! You can do this in VSCode or go to Anaconda > Jupyter Notebooks if you like the web-based version.\n",
    "\n",
    "\n"
   ]
  },
  {
   "cell_type": "code",
   "execution_count": null,
   "metadata": {},
   "outputs": [],
   "source": [
    "# regression demo adapted from Todd Gureckis (http://gureckislab.org/courses/fall19/labincp/labs/lab1introtoregression.html)\n",
    "# data files are from Kaggle: https://www.kaggle.com/tmdb/tmdb-movie-metadata.\n",
    "\n",
    "# load some helpful packages\n",
    "import numpy as np\n",
    "import pandas as pd\n",
    "import seaborn as sns\n",
    "import matplotlib.pyplot as plt\n",
    "import scipy.stats as stats\n",
    "import statsmodels.formula.api as smf"
   ]
  },
  {
   "cell_type": "markdown",
   "metadata": {},
   "source": [
    "Let's read in `tmdb_5000_movies.csv` from the `in_data` folder."
   ]
  },
  {
   "cell_type": "code",
   "execution_count": null,
   "metadata": {},
   "outputs": [],
   "source": [
    "mov = pd.read_csv('in_data/tmdb_5000_movies.csv')"
   ]
  },
  {
   "cell_type": "code",
   "execution_count": null,
   "metadata": {},
   "outputs": [],
   "source": [
    "mov.head()"
   ]
  },
  {
   "cell_type": "markdown",
   "metadata": {},
   "source": [
    "**Challenge 1**: *Find the descriptive stats for each numeric column.* Pay special attention to the minimum values."
   ]
  },
  {
   "cell_type": "code",
   "execution_count": null,
   "metadata": {},
   "outputs": [],
   "source": []
  },
  {
   "cell_type": "code",
   "execution_count": null,
   "metadata": {},
   "outputs": [],
   "source": [
    "# challenge 1 code here"
   ]
  },
  {
   "cell_type": "markdown",
   "metadata": {},
   "source": [
    "**Challenge 2**: *Find which columns have missing data (and how many missing data)*"
   ]
  },
  {
   "cell_type": "code",
   "execution_count": null,
   "metadata": {},
   "outputs": [],
   "source": [
    "# challenge 2 code here"
   ]
  },
  {
   "cell_type": "markdown",
   "metadata": {},
   "source": [
    "**Challenge 3**: *Get rid of rows with missing data, reset row indices.*"
   ]
  },
  {
   "cell_type": "code",
   "execution_count": null,
   "metadata": {},
   "outputs": [],
   "source": [
    "# challenge 3 code here"
   ]
  }
 ],
 "metadata": {
  "kernelspec": {
   "display_name": "Python 3",
   "language": "python",
   "name": "python3"
  },
  "language_info": {
   "codemirror_mode": {
    "name": "ipython",
    "version": 3
   },
   "file_extension": ".py",
   "mimetype": "text/x-python",
   "name": "python",
   "nbconvert_exporter": "python",
   "pygments_lexer": "ipython3",
   "version": "3.7.4"
  }
 },
 "nbformat": 4,
 "nbformat_minor": 2
}
